{
 "cells": [
  {
   "cell_type": "code",
   "execution_count": 1,
   "metadata": {},
   "outputs": [],
   "source": [
    "import numpy as np\n",
    "import scipy.stats as stats\n",
    "\n",
    "success_prob = 0.3\n",
    "data = np.random.binomial(n=1, p=success_prob, size=1000) # sucess is 1, failure is 0.\n",
    "\n",
    "# Domain θ\n",
    "theta_range = np.linspace(0, 1, 1000)\n",
    "\n",
    "# Prior P(θ)\n",
    "a = 2\n",
    "b = 8\n",
    "theta_range_e = theta_range + 0.0001 \n",
    "prior = stats.beta.cdf(x = theta_range_e, a=a, b=b) - stats.beta.cdf(x = theta_range, a=a, b=b) \n",
    "\n",
    "# The sampling dist. aka Likelihood P(X|θ)\n",
    "likelihood = stats.binom.pmf(k = np.sum(data), n = len(data), p = theta_range)\n",
    "\n",
    "# Posterior\n",
    "posterior = likelihood * prior\n",
    "normalized_posterior = posterior / np.sum(posterior)"
   ]
  },
  {
   "cell_type": "code",
   "execution_count": null,
   "metadata": {},
   "outputs": [],
   "source": []
  }
 ],
 "metadata": {
  "kernelspec": {
   "display_name": "stats110",
   "language": "python",
   "name": "stats110"
  },
  "language_info": {
   "codemirror_mode": {
    "name": "ipython",
    "version": 3
   },
   "file_extension": ".py",
   "mimetype": "text/x-python",
   "name": "python",
   "nbconvert_exporter": "python",
   "pygments_lexer": "ipython3",
   "version": "3.7.6"
  }
 },
 "nbformat": 4,
 "nbformat_minor": 4
}
